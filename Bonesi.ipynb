{
  "nbformat": 4,
  "nbformat_minor": 0,
  "metadata": {
    "colab": {
      "name": "Bonesi.ipynb",
      "provenance": [],
      "authorship_tag": "ABX9TyOgZFD9nCpWdxEBJlHtX9pW",
      "include_colab_link": true
    },
    "kernelspec": {
      "name": "python3",
      "display_name": "Python 3"
    },
    "language_info": {
      "name": "python"
    }
  },
  "cells": [
    {
      "cell_type": "markdown",
      "metadata": {
        "id": "view-in-github",
        "colab_type": "text"
      },
      "source": [
        "<a href=\"https://colab.research.google.com/github/Ciculs/bonesi-colab/blob/main/Bonesi.ipynb\" target=\"_parent\"><img src=\"https://colab.research.google.com/assets/colab-badge.svg\" alt=\"Open In Colab\"/></a>"
      ]
    },
    {
      "cell_type": "markdown",
      "source": [
        "# INSTALLATION"
      ],
      "metadata": {
        "id": "zw9xIlPo6Xng"
      }
    },
    {
      "cell_type": "code",
      "execution_count": null,
      "metadata": {
        "colab": {
          "base_uri": "https://localhost:8080/"
        },
        "id": "T7RVursY55Lk",
        "outputId": "494d5b42-d8f1-42e2-920c-73fc392bb663"
      },
      "outputs": [
        {
          "output_type": "stream",
          "name": "stdout",
          "text": [
            "Reading package lists... Done\n",
            "Building dependency tree       \n",
            "Reading state information... Done\n",
            "build-essential is already the newest version (12.4ubuntu1).\n",
            "make is already the newest version (4.1-9.1ubuntu1).\n",
            "make set to manually installed.\n",
            "gcc is already the newest version (4:7.4.0-1ubuntu2.3).\n",
            "gcc set to manually installed.\n",
            "git is already the newest version (1:2.17.1-1ubuntu0.12).\n",
            "The following package was automatically installed and is no longer required:\n",
            "  libnvidia-common-460\n",
            "Use 'apt autoremove' to remove it.\n",
            "The following additional packages will be installed:\n",
            "  autotools-dev libnet1 libpcap0.8 libpcap0.8-dev libsigsegv2 m4\n",
            "Suggested packages:\n",
            "  autoconf-archive gnu-standards autoconf-doc libtool gettext m4-doc\n",
            "The following NEW packages will be installed:\n",
            "  autoconf automake autotools-dev libnet1 libnet1-dev libpcap-dev libpcap0.8\n",
            "  libpcap0.8-dev libsigsegv2 m4\n",
            "0 upgraded, 10 newly installed, 0 to remove and 19 not upgraded.\n",
            "Need to get 1,564 kB of archives.\n",
            "After this operation, 5,687 kB of additional disk space will be used.\n",
            "Get:1 http://archive.ubuntu.com/ubuntu bionic-updates/main amd64 libpcap0.8 amd64 1.8.1-6ubuntu1.18.04.2 [118 kB]\n",
            "Get:2 http://archive.ubuntu.com/ubuntu bionic/main amd64 libsigsegv2 amd64 2.12-1 [14.7 kB]\n",
            "Get:3 http://archive.ubuntu.com/ubuntu bionic/main amd64 m4 amd64 1.4.18-1 [197 kB]\n",
            "Get:4 http://archive.ubuntu.com/ubuntu bionic/main amd64 autoconf all 2.69-11 [322 kB]\n",
            "Get:5 http://archive.ubuntu.com/ubuntu bionic/main amd64 autotools-dev all 20180224.1 [39.6 kB]\n",
            "Get:6 http://archive.ubuntu.com/ubuntu bionic/main amd64 automake all 1:1.15.1-3ubuntu2 [509 kB]\n",
            "Get:7 http://archive.ubuntu.com/ubuntu bionic/main amd64 libnet1 amd64 1.1.6+dfsg-3.1 [42.9 kB]\n",
            "Get:8 http://archive.ubuntu.com/ubuntu bionic/main amd64 libnet1-dev amd64 1.1.6+dfsg-3.1 [100.0 kB]\n",
            "Get:9 http://archive.ubuntu.com/ubuntu bionic-updates/main amd64 libpcap0.8-dev amd64 1.8.1-6ubuntu1.18.04.2 [218 kB]\n",
            "Get:10 http://archive.ubuntu.com/ubuntu bionic-updates/main amd64 libpcap-dev amd64 1.8.1-6ubuntu1.18.04.2 [3,480 B]\n",
            "Fetched 1,564 kB in 0s (11.3 MB/s)\n",
            "Selecting previously unselected package libpcap0.8:amd64.\n",
            "(Reading database ... 155680 files and directories currently installed.)\n",
            "Preparing to unpack .../0-libpcap0.8_1.8.1-6ubuntu1.18.04.2_amd64.deb ...\n",
            "Unpacking libpcap0.8:amd64 (1.8.1-6ubuntu1.18.04.2) ...\n",
            "Selecting previously unselected package libsigsegv2:amd64.\n",
            "Preparing to unpack .../1-libsigsegv2_2.12-1_amd64.deb ...\n",
            "Unpacking libsigsegv2:amd64 (2.12-1) ...\n",
            "Selecting previously unselected package m4.\n",
            "Preparing to unpack .../2-m4_1.4.18-1_amd64.deb ...\n",
            "Unpacking m4 (1.4.18-1) ...\n",
            "Selecting previously unselected package autoconf.\n",
            "Preparing to unpack .../3-autoconf_2.69-11_all.deb ...\n",
            "Unpacking autoconf (2.69-11) ...\n",
            "Selecting previously unselected package autotools-dev.\n",
            "Preparing to unpack .../4-autotools-dev_20180224.1_all.deb ...\n",
            "Unpacking autotools-dev (20180224.1) ...\n",
            "Selecting previously unselected package automake.\n",
            "Preparing to unpack .../5-automake_1%3a1.15.1-3ubuntu2_all.deb ...\n",
            "Unpacking automake (1:1.15.1-3ubuntu2) ...\n",
            "Selecting previously unselected package libnet1:amd64.\n",
            "Preparing to unpack .../6-libnet1_1.1.6+dfsg-3.1_amd64.deb ...\n",
            "Unpacking libnet1:amd64 (1.1.6+dfsg-3.1) ...\n",
            "Selecting previously unselected package libnet1-dev.\n",
            "Preparing to unpack .../7-libnet1-dev_1.1.6+dfsg-3.1_amd64.deb ...\n",
            "Unpacking libnet1-dev (1.1.6+dfsg-3.1) ...\n",
            "Selecting previously unselected package libpcap0.8-dev:amd64.\n",
            "Preparing to unpack .../8-libpcap0.8-dev_1.8.1-6ubuntu1.18.04.2_amd64.deb ...\n",
            "Unpacking libpcap0.8-dev:amd64 (1.8.1-6ubuntu1.18.04.2) ...\n",
            "Selecting previously unselected package libpcap-dev:amd64.\n",
            "Preparing to unpack .../9-libpcap-dev_1.8.1-6ubuntu1.18.04.2_amd64.deb ...\n",
            "Unpacking libpcap-dev:amd64 (1.8.1-6ubuntu1.18.04.2) ...\n",
            "Setting up libnet1:amd64 (1.1.6+dfsg-3.1) ...\n",
            "Setting up libsigsegv2:amd64 (2.12-1) ...\n",
            "Setting up m4 (1.4.18-1) ...\n",
            "Setting up libnet1-dev (1.1.6+dfsg-3.1) ...\n",
            "Setting up autotools-dev (20180224.1) ...\n",
            "Setting up libpcap0.8:amd64 (1.8.1-6ubuntu1.18.04.2) ...\n",
            "Setting up libpcap0.8-dev:amd64 (1.8.1-6ubuntu1.18.04.2) ...\n",
            "Setting up autoconf (2.69-11) ...\n",
            "Setting up automake (1:1.15.1-3ubuntu2) ...\n",
            "update-alternatives: using /usr/bin/automake-1.15 to provide /usr/bin/automake (automake) in auto mode\n",
            "Setting up libpcap-dev:amd64 (1.8.1-6ubuntu1.18.04.2) ...\n",
            "Processing triggers for libc-bin (2.27-3ubuntu1.5) ...\n",
            "Processing triggers for man-db (2.8.3-2ubuntu0.1) ...\n",
            "Cloning into 'bonesi'...\n",
            "remote: Enumerating objects: 102, done.\u001b[K\n",
            "remote: Total 102 (delta 0), reused 0 (delta 0), pack-reused 102\u001b[K\n",
            "Receiving objects: 100% (102/102), 476.01 KiB | 12.21 MiB/s, done.\n",
            "Resolving deltas: 100% (55/55), done.\n"
          ]
        }
      ],
      "source": [
        "! apt install build-essential libpcap-dev libnet1-dev autoconf automake gcc git make -y\n",
        "! git clone https://github.com/Markus-Go/bonesi.git"
      ]
    },
    {
      "cell_type": "code",
      "source": [
        "cd bonesi/"
      ],
      "metadata": {
        "colab": {
          "base_uri": "https://localhost:8080/"
        },
        "id": "8Y3wMgEP6NWz",
        "outputId": "e82b9789-6812-4913-bb49-1ce0f3bd6344"
      },
      "execution_count": null,
      "outputs": [
        {
          "output_type": "stream",
          "name": "stdout",
          "text": [
            "/content/bonesi\n"
          ]
        }
      ]
    },
    {
      "cell_type": "code",
      "source": [
        "!autoreconf -f -i\n",
        "!./configure\n",
        "!make\n",
        "!make install"
      ],
      "metadata": {
        "colab": {
          "base_uri": "https://localhost:8080/"
        },
        "id": "tr5pGR9Z6Qte",
        "outputId": "6797c8ef-6456-4ad8-bceb-386094647a78"
      },
      "execution_count": null,
      "outputs": [
        {
          "output_type": "stream",
          "name": "stdout",
          "text": [
            "configure.ac:13: installing './compile'\n",
            "checking for a BSD-compatible install... /usr/bin/install -c\n",
            "checking whether build environment is sane... yes\n",
            "checking for a thread-safe mkdir -p... /bin/mkdir -p\n",
            "checking for gawk... no\n",
            "checking for mawk... mawk\n",
            "checking whether make sets $(MAKE)... yes\n",
            "checking whether make supports nested variables... yes\n",
            "checking that generated files are newer than configure... done\n",
            "configure: creating ./config.status\n",
            "config.status: creating Makefile\n",
            "config.status: creating src/Makefile\n",
            "config.status: creating man/Makefile\n",
            "checking for gcc... gcc\n",
            "checking whether the C compiler works... yes\n",
            "checking for C compiler default output file name... a.out\n",
            "checking for suffix of executables... \n",
            "checking whether we are cross compiling... no\n",
            "checking for suffix of object files... o\n",
            "checking whether we are using the GNU C compiler... yes\n",
            "checking whether gcc accepts -g... yes\n",
            "checking for gcc option to accept ISO C89... none needed\n",
            "checking whether gcc understands -c and -o together... yes\n",
            "checking for style of include used by make... GNU\n",
            "checking dependency style of gcc... gcc3\n",
            "checking for pcap_open_live in -lpcap... yes\n",
            "checking for pthread_create in -lpthread... yes\n",
            "checking for libnet_init in -lnet... yes\n",
            "checking how to run the C preprocessor... gcc -E\n",
            "checking for grep that handles long lines and -e... /bin/grep\n",
            "checking for egrep... /bin/grep -E\n",
            "checking for ANSI C header files... yes\n",
            "checking for sys/types.h... yes\n",
            "checking for sys/stat.h... yes\n",
            "checking for stdlib.h... yes\n",
            "checking for string.h... yes\n",
            "checking for memory.h... yes\n",
            "checking for strings.h... yes\n",
            "checking for inttypes.h... yes\n",
            "checking for stdint.h... yes\n",
            "checking for unistd.h... yes\n",
            "checking for stdlib.h... (cached) yes\n",
            "checking for string.h... (cached) yes\n",
            "checking for unistd.h... (cached) yes\n",
            "checking pthread.h usability... yes\n",
            "checking pthread.h presence... yes\n",
            "checking for pthread.h... yes\n",
            "checking pcap.h usability... yes\n",
            "checking pcap.h presence... yes\n",
            "checking for pcap.h... yes\n",
            "checking libnet.h usability... yes\n",
            "checking libnet.h presence... yes\n",
            "checking for libnet.h... yes\n",
            "checking for an ANSI C-conforming const... yes\n",
            "checking for inline... inline\n",
            "checking for size_t... yes\n",
            "checking for ssize_t... yes\n",
            "checking whether time.h and sys/time.h may both be included... yes\n",
            "checking for uint32_t... yes\n",
            "checking for stdlib.h... (cached) yes\n",
            "checking for GNU libc compatible malloc... yes\n",
            "checking for bzero... yes\n",
            "checking for gettimeofday... yes\n",
            "checking for strncasecmp... yes\n",
            "checking for strrchr... yes\n",
            "checking that generated files are newer than configure... done\n",
            "configure: creating ./config.status\n",
            "config.status: creating Makefile\n",
            "config.status: creating src/Makefile\n",
            "config.status: creating man/Makefile\n",
            "config.status: creating config.h\n",
            "config.status: executing depfiles commands\n",
            "make  all-recursive\n",
            "make[1]: Entering directory '/content/bonesi'\n",
            "Making all in src\n",
            "make[2]: Entering directory '/content/bonesi/src'\n",
            "gcc -DHAVE_CONFIG_H -I. -I..     -g -O2 -MT bonesi.o -MD -MP -MF .deps/bonesi.Tpo -c -o bonesi.o bonesi.c\n",
            "\u001b[01m\u001b[Kbonesi.c:121:17:\u001b[m\u001b[K \u001b[01;35m\u001b[Kwarning: \u001b[m\u001b[Kinitialization makes integer from pointer without a cast [\u001b[01;35m\u001b[K-Wint-conversion\u001b[m\u001b[K]\n",
            " int rp_filter = \u001b[01;35m\u001b[KNULL\u001b[m\u001b[K;\n",
            "                 \u001b[01;35m\u001b[K^~~~\u001b[m\u001b[K\n",
            "In file included from \u001b[01m\u001b[Kbonesi.c:39:0\u001b[m\u001b[K:\n",
            "\u001b[01m\u001b[Khttp.h:\u001b[m\u001b[K In function ‘\u001b[01m\u001b[KbuildRequest\u001b[m\u001b[K’:\n",
            "\u001b[01m\u001b[Khttp.h:125:35:\u001b[m\u001b[K \u001b[01;35m\u001b[Kwarning: \u001b[m\u001b[K‘\u001b[01m\u001b[K%s\u001b[m\u001b[K’ directive writing up to 1999 bytes into a region of size 491 [\u001b[01;35m\u001b[K-Wformat-overflow=\u001b[m\u001b[K]\n",
            "         sprintf(referer,\"Referer: \u001b[01;35m\u001b[K%s\u001b[m\u001b[K/%s\\r\\n\\r\\n\",urls.urls[nref].host,urls.urls[nref].path);\n",
            "                                   \u001b[01;35m\u001b[K^~\u001b[m\u001b[K\n",
            "In file included from \u001b[01m\u001b[K/usr/include/stdio.h:862:0\u001b[m\u001b[K,\n",
            "                 from \u001b[01m\u001b[Kbonesi.c:20\u001b[m\u001b[K:\n",
            "\u001b[01m\u001b[K/usr/include/x86_64-linux-gnu/bits/stdio2.h:33:10:\u001b[m\u001b[K \u001b[01;36m\u001b[Knote: \u001b[m\u001b[K‘\u001b[01m\u001b[K__builtin___sprintf_chk\u001b[m\u001b[K’ output between 15 and 4013 bytes into a destination of size 500\n",
            "   return \u001b[01;36m\u001b[K__builtin___sprintf_chk (__s, __USE_FORTIFY_LEVEL - 1,\u001b[m\u001b[K\n",
            "          \u001b[01;36m\u001b[K^~~~~~~~~~~~~~~~~~~~~~~~~~~~~~~~~~~~~~~~~~~~~~~~~~~~~~\u001b[m\u001b[K\n",
            " \u001b[01;36m\u001b[K      __bos (__s), __fmt, __va_arg_pack ())\u001b[m\u001b[K;\n",
            "       \u001b[01;36m\u001b[K~~~~~~~~~~~~~~~~~~~~~~~~~~~~~~~~~~~~~\u001b[m\u001b[K\n",
            "mv -f .deps/bonesi.Tpo .deps/bonesi.Po\n",
            "gcc  -g -O2   -o bonesi bonesi.o  -lnet -lpthread -lpcap \n",
            "make[2]: Leaving directory '/content/bonesi/src'\n",
            "Making all in man\n",
            "make[2]: Entering directory '/content/bonesi/man'\n",
            "make[2]: Nothing to be done for 'all'.\n",
            "make[2]: Leaving directory '/content/bonesi/man'\n",
            "make[2]: Entering directory '/content/bonesi'\n",
            "make[2]: Leaving directory '/content/bonesi'\n",
            "make[1]: Leaving directory '/content/bonesi'\n",
            "Making install in src\n",
            "make[1]: Entering directory '/content/bonesi/src'\n",
            "make[2]: Entering directory '/content/bonesi/src'\n",
            " /bin/mkdir -p '/usr/local/bin'\n",
            "  /usr/bin/install -c bonesi '/usr/local/bin'\n",
            "make[2]: Nothing to be done for 'install-data-am'.\n",
            "make[2]: Leaving directory '/content/bonesi/src'\n",
            "make[1]: Leaving directory '/content/bonesi/src'\n",
            "Making install in man\n",
            "make[1]: Entering directory '/content/bonesi/man'\n",
            "make[2]: Entering directory '/content/bonesi/man'\n",
            "make[2]: Nothing to be done for 'install-exec-am'.\n",
            " /bin/mkdir -p '/usr/local/share/man/man1'\n",
            " /usr/bin/install -c -m 644 bonesi.1 '/usr/local/share/man/man1'\n",
            "make[2]: Leaving directory '/content/bonesi/man'\n",
            "make[1]: Leaving directory '/content/bonesi/man'\n",
            "make[1]: Entering directory '/content/bonesi'\n",
            "make[2]: Entering directory '/content/bonesi'\n",
            "make[2]: Nothing to be done for 'install-exec-am'.\n",
            "make[2]: Nothing to be done for 'install-data-am'.\n",
            "make[2]: Leaving directory '/content/bonesi'\n",
            "make[1]: Leaving directory '/content/bonesi'\n"
          ]
        }
      ]
    }
  ]
}